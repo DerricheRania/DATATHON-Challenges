{
  "cells": [
    {
      "cell_type": "code",
      "execution_count": 39,
      "id": "15369e69",
      "metadata": {
        "id": "15369e69"
      },
      "outputs": [],
      "source": [
        "import numpy as np # linear algebra\n",
        "import pandas as pd # data processing, CSV file I/O (e.g. pd.read_csv)\n",
        "from sklearn.model_selection import train_test_split\n",
        "from sklearn.feature_extraction.text import TfidfVectorizer\n",
        "from sklearn.linear_model import LogisticRegression\n",
        "from sklearn.metrics import classification_report,f1_score\n",
        "from sklearn.pipeline import Pipeline\n"
      ]
    },
    {
      "cell_type": "markdown",
      "id": "3ba05415",
      "metadata": {
        "id": "3ba05415"
      },
      "source": [
        "## 🔧 1. Preprocessing and Setup"
      ]
    },
    {
      "cell_type": "code",
      "execution_count": 40,
      "id": "0a7bae5c",
      "metadata": {
        "id": "0a7bae5c"
      },
      "outputs": [],
      "source": [
        "train =pd.read_csv('/train.csv')\n",
        "test = pd.read_csv('/test.csv')"
      ]
    },
    {
      "cell_type": "code",
      "execution_count": 40,
      "id": "ec381663",
      "metadata": {
        "id": "ec381663"
      },
      "outputs": [],
      "source": []
    },
    {
      "cell_type": "code",
      "execution_count": 40,
      "id": "811fec51",
      "metadata": {
        "id": "811fec51"
      },
      "outputs": [],
      "source": []
    },
    {
      "cell_type": "code",
      "execution_count": 41,
      "id": "5fe90760",
      "metadata": {
        "id": "5fe90760"
      },
      "outputs": [],
      "source": [
        "train.drop(columns=['id'], inplace=True)\n",
        "test.drop(columns=['id'], inplace=True)"
      ]
    },
    {
      "cell_type": "code",
      "execution_count": 42,
      "id": "70399c8d",
      "metadata": {
        "colab": {
          "base_uri": "https://localhost:8080/",
          "height": 213
        },
        "id": "70399c8d",
        "outputId": "a5b0ad3a-d31b-4cfc-f6d3-37794c383fd1"
      },
      "outputs": [
        {
          "output_type": "execute_result",
          "data": {
            "text/plain": [
              "                                                text sentiment\n",
              "0  Extremely easy user interface. Helpsnin using ...  positive\n",
              "1   Hey Luis, thanks!  I have Flash and my prof`s...  positive\n",
              "2   For sure you should continue to Tweet WHILE o...  negative\n",
              "3                    on the phone w. Chantellie ! <3   neutral\n",
              "4  Clunky and very slow to load. Not fun at all -...  negative"
            ],
            "text/html": [
              "\n",
              "  <div id=\"df-93e56923-befc-4223-9949-59b1edf5772c\" class=\"colab-df-container\">\n",
              "    <div>\n",
              "<style scoped>\n",
              "    .dataframe tbody tr th:only-of-type {\n",
              "        vertical-align: middle;\n",
              "    }\n",
              "\n",
              "    .dataframe tbody tr th {\n",
              "        vertical-align: top;\n",
              "    }\n",
              "\n",
              "    .dataframe thead th {\n",
              "        text-align: right;\n",
              "    }\n",
              "</style>\n",
              "<table border=\"1\" class=\"dataframe\">\n",
              "  <thead>\n",
              "    <tr style=\"text-align: right;\">\n",
              "      <th></th>\n",
              "      <th>text</th>\n",
              "      <th>sentiment</th>\n",
              "    </tr>\n",
              "  </thead>\n",
              "  <tbody>\n",
              "    <tr>\n",
              "      <th>0</th>\n",
              "      <td>Extremely easy user interface. Helpsnin using ...</td>\n",
              "      <td>positive</td>\n",
              "    </tr>\n",
              "    <tr>\n",
              "      <th>1</th>\n",
              "      <td>Hey Luis, thanks!  I have Flash and my prof`s...</td>\n",
              "      <td>positive</td>\n",
              "    </tr>\n",
              "    <tr>\n",
              "      <th>2</th>\n",
              "      <td>For sure you should continue to Tweet WHILE o...</td>\n",
              "      <td>negative</td>\n",
              "    </tr>\n",
              "    <tr>\n",
              "      <th>3</th>\n",
              "      <td>on the phone w. Chantellie ! &lt;3</td>\n",
              "      <td>neutral</td>\n",
              "    </tr>\n",
              "    <tr>\n",
              "      <th>4</th>\n",
              "      <td>Clunky and very slow to load. Not fun at all -...</td>\n",
              "      <td>negative</td>\n",
              "    </tr>\n",
              "  </tbody>\n",
              "</table>\n",
              "</div>\n",
              "    <div class=\"colab-df-buttons\">\n",
              "\n",
              "  <div class=\"colab-df-container\">\n",
              "    <button class=\"colab-df-convert\" onclick=\"convertToInteractive('df-93e56923-befc-4223-9949-59b1edf5772c')\"\n",
              "            title=\"Convert this dataframe to an interactive table.\"\n",
              "            style=\"display:none;\">\n",
              "\n",
              "  <svg xmlns=\"http://www.w3.org/2000/svg\" height=\"24px\" viewBox=\"0 -960 960 960\">\n",
              "    <path d=\"M120-120v-720h720v720H120Zm60-500h600v-160H180v160Zm220 220h160v-160H400v160Zm0 220h160v-160H400v160ZM180-400h160v-160H180v160Zm440 0h160v-160H620v160ZM180-180h160v-160H180v160Zm440 0h160v-160H620v160Z\"/>\n",
              "  </svg>\n",
              "    </button>\n",
              "\n",
              "  <style>\n",
              "    .colab-df-container {\n",
              "      display:flex;\n",
              "      gap: 12px;\n",
              "    }\n",
              "\n",
              "    .colab-df-convert {\n",
              "      background-color: #E8F0FE;\n",
              "      border: none;\n",
              "      border-radius: 50%;\n",
              "      cursor: pointer;\n",
              "      display: none;\n",
              "      fill: #1967D2;\n",
              "      height: 32px;\n",
              "      padding: 0 0 0 0;\n",
              "      width: 32px;\n",
              "    }\n",
              "\n",
              "    .colab-df-convert:hover {\n",
              "      background-color: #E2EBFA;\n",
              "      box-shadow: 0px 1px 2px rgba(60, 64, 67, 0.3), 0px 1px 3px 1px rgba(60, 64, 67, 0.15);\n",
              "      fill: #174EA6;\n",
              "    }\n",
              "\n",
              "    .colab-df-buttons div {\n",
              "      margin-bottom: 4px;\n",
              "    }\n",
              "\n",
              "    [theme=dark] .colab-df-convert {\n",
              "      background-color: #3B4455;\n",
              "      fill: #D2E3FC;\n",
              "    }\n",
              "\n",
              "    [theme=dark] .colab-df-convert:hover {\n",
              "      background-color: #434B5C;\n",
              "      box-shadow: 0px 1px 3px 1px rgba(0, 0, 0, 0.15);\n",
              "      filter: drop-shadow(0px 1px 2px rgba(0, 0, 0, 0.3));\n",
              "      fill: #FFFFFF;\n",
              "    }\n",
              "  </style>\n",
              "\n",
              "    <script>\n",
              "      const buttonEl =\n",
              "        document.querySelector('#df-93e56923-befc-4223-9949-59b1edf5772c button.colab-df-convert');\n",
              "      buttonEl.style.display =\n",
              "        google.colab.kernel.accessAllowed ? 'block' : 'none';\n",
              "\n",
              "      async function convertToInteractive(key) {\n",
              "        const element = document.querySelector('#df-93e56923-befc-4223-9949-59b1edf5772c');\n",
              "        const dataTable =\n",
              "          await google.colab.kernel.invokeFunction('convertToInteractive',\n",
              "                                                    [key], {});\n",
              "        if (!dataTable) return;\n",
              "\n",
              "        const docLinkHtml = 'Like what you see? Visit the ' +\n",
              "          '<a target=\"_blank\" href=https://colab.research.google.com/notebooks/data_table.ipynb>data table notebook</a>'\n",
              "          + ' to learn more about interactive tables.';\n",
              "        element.innerHTML = '';\n",
              "        dataTable['output_type'] = 'display_data';\n",
              "        await google.colab.output.renderOutput(dataTable, element);\n",
              "        const docLink = document.createElement('div');\n",
              "        docLink.innerHTML = docLinkHtml;\n",
              "        element.appendChild(docLink);\n",
              "      }\n",
              "    </script>\n",
              "  </div>\n",
              "\n",
              "\n",
              "    <div id=\"df-60bf49dc-984c-41c9-8c6c-01e7e0b95046\">\n",
              "      <button class=\"colab-df-quickchart\" onclick=\"quickchart('df-60bf49dc-984c-41c9-8c6c-01e7e0b95046')\"\n",
              "                title=\"Suggest charts\"\n",
              "                style=\"display:none;\">\n",
              "\n",
              "<svg xmlns=\"http://www.w3.org/2000/svg\" height=\"24px\"viewBox=\"0 0 24 24\"\n",
              "     width=\"24px\">\n",
              "    <g>\n",
              "        <path d=\"M19 3H5c-1.1 0-2 .9-2 2v14c0 1.1.9 2 2 2h14c1.1 0 2-.9 2-2V5c0-1.1-.9-2-2-2zM9 17H7v-7h2v7zm4 0h-2V7h2v10zm4 0h-2v-4h2v4z\"/>\n",
              "    </g>\n",
              "</svg>\n",
              "      </button>\n",
              "\n",
              "<style>\n",
              "  .colab-df-quickchart {\n",
              "      --bg-color: #E8F0FE;\n",
              "      --fill-color: #1967D2;\n",
              "      --hover-bg-color: #E2EBFA;\n",
              "      --hover-fill-color: #174EA6;\n",
              "      --disabled-fill-color: #AAA;\n",
              "      --disabled-bg-color: #DDD;\n",
              "  }\n",
              "\n",
              "  [theme=dark] .colab-df-quickchart {\n",
              "      --bg-color: #3B4455;\n",
              "      --fill-color: #D2E3FC;\n",
              "      --hover-bg-color: #434B5C;\n",
              "      --hover-fill-color: #FFFFFF;\n",
              "      --disabled-bg-color: #3B4455;\n",
              "      --disabled-fill-color: #666;\n",
              "  }\n",
              "\n",
              "  .colab-df-quickchart {\n",
              "    background-color: var(--bg-color);\n",
              "    border: none;\n",
              "    border-radius: 50%;\n",
              "    cursor: pointer;\n",
              "    display: none;\n",
              "    fill: var(--fill-color);\n",
              "    height: 32px;\n",
              "    padding: 0;\n",
              "    width: 32px;\n",
              "  }\n",
              "\n",
              "  .colab-df-quickchart:hover {\n",
              "    background-color: var(--hover-bg-color);\n",
              "    box-shadow: 0 1px 2px rgba(60, 64, 67, 0.3), 0 1px 3px 1px rgba(60, 64, 67, 0.15);\n",
              "    fill: var(--button-hover-fill-color);\n",
              "  }\n",
              "\n",
              "  .colab-df-quickchart-complete:disabled,\n",
              "  .colab-df-quickchart-complete:disabled:hover {\n",
              "    background-color: var(--disabled-bg-color);\n",
              "    fill: var(--disabled-fill-color);\n",
              "    box-shadow: none;\n",
              "  }\n",
              "\n",
              "  .colab-df-spinner {\n",
              "    border: 2px solid var(--fill-color);\n",
              "    border-color: transparent;\n",
              "    border-bottom-color: var(--fill-color);\n",
              "    animation:\n",
              "      spin 1s steps(1) infinite;\n",
              "  }\n",
              "\n",
              "  @keyframes spin {\n",
              "    0% {\n",
              "      border-color: transparent;\n",
              "      border-bottom-color: var(--fill-color);\n",
              "      border-left-color: var(--fill-color);\n",
              "    }\n",
              "    20% {\n",
              "      border-color: transparent;\n",
              "      border-left-color: var(--fill-color);\n",
              "      border-top-color: var(--fill-color);\n",
              "    }\n",
              "    30% {\n",
              "      border-color: transparent;\n",
              "      border-left-color: var(--fill-color);\n",
              "      border-top-color: var(--fill-color);\n",
              "      border-right-color: var(--fill-color);\n",
              "    }\n",
              "    40% {\n",
              "      border-color: transparent;\n",
              "      border-right-color: var(--fill-color);\n",
              "      border-top-color: var(--fill-color);\n",
              "    }\n",
              "    60% {\n",
              "      border-color: transparent;\n",
              "      border-right-color: var(--fill-color);\n",
              "    }\n",
              "    80% {\n",
              "      border-color: transparent;\n",
              "      border-right-color: var(--fill-color);\n",
              "      border-bottom-color: var(--fill-color);\n",
              "    }\n",
              "    90% {\n",
              "      border-color: transparent;\n",
              "      border-bottom-color: var(--fill-color);\n",
              "    }\n",
              "  }\n",
              "</style>\n",
              "\n",
              "      <script>\n",
              "        async function quickchart(key) {\n",
              "          const quickchartButtonEl =\n",
              "            document.querySelector('#' + key + ' button');\n",
              "          quickchartButtonEl.disabled = true;  // To prevent multiple clicks.\n",
              "          quickchartButtonEl.classList.add('colab-df-spinner');\n",
              "          try {\n",
              "            const charts = await google.colab.kernel.invokeFunction(\n",
              "                'suggestCharts', [key], {});\n",
              "          } catch (error) {\n",
              "            console.error('Error during call to suggestCharts:', error);\n",
              "          }\n",
              "          quickchartButtonEl.classList.remove('colab-df-spinner');\n",
              "          quickchartButtonEl.classList.add('colab-df-quickchart-complete');\n",
              "        }\n",
              "        (() => {\n",
              "          let quickchartButtonEl =\n",
              "            document.querySelector('#df-60bf49dc-984c-41c9-8c6c-01e7e0b95046 button');\n",
              "          quickchartButtonEl.style.display =\n",
              "            google.colab.kernel.accessAllowed ? 'block' : 'none';\n",
              "        })();\n",
              "      </script>\n",
              "    </div>\n",
              "\n",
              "    </div>\n",
              "  </div>\n"
            ],
            "application/vnd.google.colaboratory.intrinsic+json": {
              "type": "dataframe",
              "variable_name": "train",
              "summary": "{\n  \"name\": \"train\",\n  \"rows\": 7633,\n  \"fields\": [\n    {\n      \"column\": \"text\",\n      \"properties\": {\n        \"dtype\": \"string\",\n        \"num_unique_values\": 7633,\n        \"samples\": [\n          \"Oh god! I had to look at 'How to use Twitter'.. how hopeless is that?!\",\n          \"BEING HAVE HAND. MIGHT GUYS TOO. THEM ISSUE. WAY YOU ONE THEY`RE ON OUT OF WAY, THE TO GETTING YOU ACCUSED OF 'ONE SIDED'\",\n          \"  hope u feel better sweetie\"\n        ],\n        \"semantic_type\": \"\",\n        \"description\": \"\"\n      }\n    },\n    {\n      \"column\": \"sentiment\",\n      \"properties\": {\n        \"dtype\": \"category\",\n        \"num_unique_values\": 3,\n        \"samples\": [\n          \"positive\",\n          \"negative\",\n          \"neutral\"\n        ],\n        \"semantic_type\": \"\",\n        \"description\": \"\"\n      }\n    }\n  ]\n}"
            }
          },
          "metadata": {},
          "execution_count": 42
        }
      ],
      "source": [
        "train.head()"
      ]
    },
    {
      "cell_type": "code",
      "execution_count": 43,
      "id": "68866319",
      "metadata": {
        "colab": {
          "base_uri": "https://localhost:8080/"
        },
        "id": "68866319",
        "outputId": "f24ecbca-eee2-4e14-c93b-538c6189feff"
      },
      "outputs": [
        {
          "output_type": "stream",
          "name": "stderr",
          "text": [
            "[nltk_data] Downloading package stopwords to /root/nltk_data...\n",
            "[nltk_data]   Package stopwords is already up-to-date!\n"
          ]
        }
      ],
      "source": [
        "\n",
        "\n",
        "import re\n",
        "import nltk\n",
        "from nltk.corpus import stopwords\n",
        "from nltk.stem import PorterStemmer\n",
        "\n",
        "nltk.download('stopwords')\n",
        "stop_words = set(stopwords.words('english'))\n",
        "stemmer = PorterStemmer()\n",
        "\n",
        "def preprocess(text):\n",
        "    text = text.lower()  # lowercase\n",
        "    text = re.sub(r\"http\\S+|www\\S+|https\\S+\", '', text)  # remove links\n",
        "    text = re.sub(r'\\W', ' ', text)  # remove special characters\n",
        "    text = re.sub(r'\\s+', ' ', text)  # remove extra spaces\n",
        "    tokens = text.split()\n",
        "    tokens = [stemmer.stem(word) for word in tokens if word not in stop_words]\n",
        "    return ' '.join(tokens)\n",
        "\n",
        "train['cleaned_text'] = train['text'].apply(preprocess)\n",
        "test['cleaned_text'] = test['text'].apply(preprocess)\n"
      ]
    },
    {
      "cell_type": "code",
      "execution_count": 43,
      "id": "1c194e67",
      "metadata": {
        "id": "1c194e67"
      },
      "outputs": [],
      "source": []
    },
    {
      "cell_type": "code",
      "execution_count": 44,
      "id": "416c7d82",
      "metadata": {
        "colab": {
          "base_uri": "https://localhost:8080/"
        },
        "id": "416c7d82",
        "outputId": "70d37060-a341-4148-88f8-aab10ba5394c"
      },
      "outputs": [
        {
          "output_type": "stream",
          "name": "stdout",
          "text": [
            "NaN in text column: 0\n",
            "NaN in sentiment column: 1\n",
            "Total rows with NaNs: 1\n"
          ]
        }
      ],
      "source": [
        "print(\"NaN in text column:\", train['text'].isna().sum())\n",
        "print(\"NaN in sentiment column:\", train['sentiment'].isna().sum())\n",
        "print(\"Total rows with NaNs:\", train[['text', 'sentiment']].isna().any(axis=1).sum())\n",
        "\n"
      ]
    },
    {
      "cell_type": "code",
      "execution_count": 45,
      "id": "a6700f58",
      "metadata": {
        "id": "a6700f58"
      },
      "outputs": [],
      "source": [
        "train = train.dropna(subset=['text', 'sentiment'])\n"
      ]
    },
    {
      "cell_type": "code",
      "execution_count": 45,
      "id": "0bb643f3",
      "metadata": {
        "id": "0bb643f3"
      },
      "outputs": [],
      "source": []
    },
    {
      "cell_type": "markdown",
      "id": "2ec94c89",
      "metadata": {
        "id": "2ec94c89"
      },
      "source": [
        "## 📊 2. Vectorization"
      ]
    },
    {
      "cell_type": "code",
      "execution_count": 46,
      "id": "d4a0d2ac",
      "metadata": {
        "id": "d4a0d2ac"
      },
      "outputs": [],
      "source": [
        "from sklearn.feature_extraction.text import TfidfVectorizer\n",
        "\n",
        "vectorizer = TfidfVectorizer(ngram_range=(1,2), max_df=0.9, min_df=5, max_features=10000)\n",
        "\n",
        "X = vectorizer.fit_transform(train['cleaned_text'])\n"
      ]
    },
    {
      "cell_type": "code",
      "execution_count": 47,
      "id": "f2b309ad",
      "metadata": {
        "id": "f2b309ad"
      },
      "outputs": [],
      "source": [
        "from sklearn.preprocessing import LabelEncoder\n",
        "\n",
        "le = LabelEncoder()\n",
        "y = le.fit_transform(train['sentiment'])  # e.g., positive, negative\n"
      ]
    },
    {
      "cell_type": "markdown",
      "id": "f8c20ab1",
      "metadata": {
        "id": "f8c20ab1"
      },
      "source": [
        "## 🧠 3. Train-Test Split"
      ]
    },
    {
      "cell_type": "code",
      "execution_count": 48,
      "id": "fd4713d1",
      "metadata": {
        "id": "fd4713d1"
      },
      "outputs": [],
      "source": [
        "from sklearn.model_selection import train_test_split\n",
        "\n",
        "X_train_text, X_val_text, y_train, y_val = train_test_split(train['cleaned_text'], y, test_size=0.2, stratify=y, random_state=42)\n"
      ]
    },
    {
      "cell_type": "code",
      "execution_count": 49,
      "id": "034e472c",
      "metadata": {
        "colab": {
          "base_uri": "https://localhost:8080/"
        },
        "id": "034e472c",
        "outputId": "25b1924b-0006-4ba6-ec04-482aa36142ae"
      },
      "outputs": [
        {
          "output_type": "stream",
          "name": "stdout",
          "text": [
            "<class 'pandas.core.series.Series'>\n"
          ]
        }
      ],
      "source": [
        "print(type(X_train_text))        # should be something like <class 'pandas.core.series.Series'> or list of strings\n"
      ]
    },
    {
      "cell_type": "markdown",
      "id": "da91dfd5",
      "metadata": {
        "id": "da91dfd5"
      },
      "source": [
        "## 🚀 4. Train a Logistic Regression Classifier"
      ]
    },
    {
      "cell_type": "code",
      "execution_count": 50,
      "id": "ead4c5d7",
      "metadata": {
        "colab": {
          "base_uri": "https://localhost:8080/"
        },
        "id": "ead4c5d7",
        "outputId": "fedb12f8-546d-4c06-99c2-7801e590f097"
      },
      "outputs": [
        {
          "output_type": "stream",
          "name": "stdout",
          "text": [
            "Fitting 5 folds for each of 288 candidates, totalling 1440 fits\n",
            "Best parameters: {'clf__C': 1, 'clf__class_weight': 'balanced', 'clf__solver': 'liblinear', 'tfidf__max_df': 0.75, 'tfidf__max_features': 5000, 'tfidf__min_df': 3, 'tfidf__ngram_range': (1, 2)}\n"
          ]
        }
      ],
      "source": [
        "from sklearn.pipeline import Pipeline\n",
        "from sklearn.model_selection import GridSearchCV\n",
        "from sklearn.linear_model import LogisticRegression\n",
        "from sklearn.feature_extraction.text import TfidfVectorizer\n",
        "\n",
        "pipe = Pipeline([\n",
        "    ('tfidf', TfidfVectorizer()),\n",
        "    ('clf', LogisticRegression(max_iter=1000))\n",
        "])\n",
        "\n",
        "param_grid = {\n",
        "    'tfidf__ngram_range': [(1,1), (1,2)],\n",
        "    'tfidf__max_df': [0.75, 0.85, 0.95],\n",
        "    'tfidf__min_df': [3, 5],\n",
        "    'tfidf__max_features': [5000, 10000],\n",
        "    'clf__C': [0.1, 1, 10],\n",
        "    'clf__class_weight': [None, 'balanced'],\n",
        "    'clf__solver': ['liblinear', 'saga']\n",
        "}\n",
        "\n",
        "grid = GridSearchCV(pipe, param_grid, cv=5, scoring='f1_weighted', n_jobs=-1, verbose=2)\n",
        "grid.fit(train['cleaned_text'], y)  # y is your LabelEncoded sentiment\n",
        "\n",
        "print(\"Best parameters:\", grid.best_params_)\n"
      ]
    },
    {
      "cell_type": "markdown",
      "id": "e18e6445",
      "metadata": {
        "id": "e18e6445"
      },
      "source": [
        "## 📈 5. Evaluation"
      ]
    },
    {
      "cell_type": "code",
      "execution_count": 51,
      "id": "06a72631",
      "metadata": {
        "colab": {
          "base_uri": "https://localhost:8080/"
        },
        "id": "06a72631",
        "outputId": "d677a403-f52c-4d42-bb82-03bbac8ca839"
      },
      "outputs": [
        {
          "output_type": "stream",
          "name": "stdout",
          "text": [
            "Fitting 5 folds for each of 288 candidates, totalling 1440 fits\n",
            "              precision    recall  f1-score   support\n",
            "\n",
            "    negative       0.61      0.56      0.58       445\n",
            "     neutral       0.56      0.64      0.60       579\n",
            "    positive       0.72      0.66      0.69       503\n",
            "\n",
            "    accuracy                           0.62      1527\n",
            "   macro avg       0.63      0.62      0.62      1527\n",
            "weighted avg       0.63      0.62      0.62      1527\n",
            "\n",
            "Weighted F1 Score: 0.6238569273180034\n"
          ]
        }
      ],
      "source": [
        "from sklearn.metrics import classification_report\n",
        "\n",
        "\n",
        "grid.fit(X_train_text, y_train)\n",
        "y_pred = grid.predict(X_val_text)  # predict on raw text\n",
        "\n",
        "print(classification_report(y_val, y_pred, target_names=le.classes_))\n",
        "print(\"Weighted F1 Score:\", f1_score(y_val, y_pred, average='weighted'))\n"
      ]
    },
    {
      "cell_type": "code",
      "execution_count": 53,
      "id": "553ef358",
      "metadata": {
        "colab": {
          "base_uri": "https://localhost:8080/"
        },
        "id": "553ef358",
        "outputId": "813c6a25-507e-420e-83f6-b837ff3dd956"
      },
      "outputs": [
        {
          "output_type": "stream",
          "name": "stdout",
          "text": [
            "Submission file created: analyse_submission.csv\n"
          ]
        }
      ],
      "source": [
        "# Predict on test data (using cleaned text)\n",
        "y_pred_test = grid.predict(test['cleaned_text'])\n",
        "\n",
        "# Convert numeric predictions back to text labels (e.g. 0 → 'positive')\n",
        "submission_labels = le.inverse_transform(y_pred_test)\n",
        "\n",
        "# Load the original test file again to get the IDs\n",
        "test_ids = pd.read_csv('/test.csv')['id']\n",
        "\n",
        "# Prepare final submission DataFrame\n",
        "submission = pd.DataFrame({\n",
        "    'id': test_ids,\n",
        "    'Sentiment': submission_labels\n",
        "})\n",
        "\n",
        "submission.to_csv('analyse_submission.csv', index=False)\n",
        "print(\"Submission file created: analyse_submission.csv\")\n"
      ]
    }
  ],
  "metadata": {
    "kernelspec": {
      "display_name": "env",
      "language": "python",
      "name": "python3"
    },
    "language_info": {
      "codemirror_mode": {
        "name": "ipython",
        "version": 3
      },
      "file_extension": ".py",
      "mimetype": "text/x-python",
      "name": "python",
      "nbconvert_exporter": "python",
      "pygments_lexer": "ipython3",
      "version": "3.12.0"
    },
    "colab": {
      "provenance": []
    }
  },
  "nbformat": 4,
  "nbformat_minor": 5
}